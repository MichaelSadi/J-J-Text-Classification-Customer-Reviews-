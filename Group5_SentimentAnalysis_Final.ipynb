{
 "cells": [
  {
   "cell_type": "markdown",
   "metadata": {},
   "source": [
    "# <font color =red>**Sentiment Analysis**"
   ]
  },
  {
   "cell_type": "code",
   "execution_count": 2,
   "metadata": {},
   "outputs": [],
   "source": [
    "import pandas as pd"
   ]
  },
  {
   "cell_type": "code",
   "execution_count": 3,
   "metadata": {},
   "outputs": [],
   "source": [
    "data = pd.read_csv(\"final_gcc_clean.csv\") #Cleaned data"
   ]
  },
  {
   "cell_type": "code",
   "execution_count": 4,
   "metadata": {},
   "outputs": [
    {
     "data": {
      "text/html": [
       "<div>\n",
       "<style scoped>\n",
       "    .dataframe tbody tr th:only-of-type {\n",
       "        vertical-align: middle;\n",
       "    }\n",
       "\n",
       "    .dataframe tbody tr th {\n",
       "        vertical-align: top;\n",
       "    }\n",
       "\n",
       "    .dataframe thead th {\n",
       "        text-align: right;\n",
       "    }\n",
       "</style>\n",
       "<table border=\"1\" class=\"dataframe\">\n",
       "  <thead>\n",
       "    <tr style=\"text-align: right;\">\n",
       "      <th></th>\n",
       "      <th>subject_level_1_desc</th>\n",
       "      <th>subject_level_2_desc</th>\n",
       "      <th>subject_level_3_desc</th>\n",
       "      <th>sentiment_desc</th>\n",
       "      <th>comm_type</th>\n",
       "      <th>verbatim_cdownload_content</th>\n",
       "      <th>fiscal_period</th>\n",
       "      <th>clean</th>\n",
       "    </tr>\n",
       "  </thead>\n",
       "  <tbody>\n",
       "    <tr>\n",
       "      <th>0</th>\n",
       "      <td>Feedback - FBK</td>\n",
       "      <td>Other</td>\n",
       "      <td>Other</td>\n",
       "      <td>Negative</td>\n",
       "      <td>Facebook</td>\n",
       "      <td>Rinse your mouth then spit in your hands. Get ...</td>\n",
       "      <td>5/15/2020</td>\n",
       "      <td>rinse mouth spit hand get double duty one product</td>\n",
       "    </tr>\n",
       "    <tr>\n",
       "      <th>1</th>\n",
       "      <td>Feedback - FBK</td>\n",
       "      <td>Other</td>\n",
       "      <td>Other</td>\n",
       "      <td>Negative</td>\n",
       "      <td>Instagram</td>\n",
       "      <td>@listerine is going to hate you @joerogan ð???</td>\n",
       "      <td>8/8/2019</td>\n",
       "      <td>going hate</td>\n",
       "    </tr>\n",
       "    <tr>\n",
       "      <th>2</th>\n",
       "      <td>Feedback - FBK</td>\n",
       "      <td>Other</td>\n",
       "      <td>Other</td>\n",
       "      <td>Neutral</td>\n",
       "      <td>Facebook</td>\n",
       "      <td>#Listerine \\nMorning breath is definitely the ...</td>\n",
       "      <td>7/3/2019</td>\n",
       "      <td>listerine morning breath definitely worst</td>\n",
       "    </tr>\n",
       "    <tr>\n",
       "      <th>3</th>\n",
       "      <td>Inquiry</td>\n",
       "      <td>Marketing Services</td>\n",
       "      <td>Availability</td>\n",
       "      <td>Negative</td>\n",
       "      <td>Facebook</td>\n",
       "      <td>Why was the prebrush rinse discontinued and is...</td>\n",
       "      <td>10/1/2018</td>\n",
       "      <td>prebrush rinse discontinued something similar</td>\n",
       "    </tr>\n",
       "    <tr>\n",
       "      <th>4</th>\n",
       "      <td>Inquiry</td>\n",
       "      <td>Product</td>\n",
       "      <td>Product Attribute</td>\n",
       "      <td>Positive</td>\n",
       "      <td>Facebook</td>\n",
       "      <td>Thats the onley one i bi love it</td>\n",
       "      <td>6/14/2020</td>\n",
       "      <td>thats onley one bi love</td>\n",
       "    </tr>\n",
       "  </tbody>\n",
       "</table>\n",
       "</div>"
      ],
      "text/plain": [
       "  subject_level_1_desc subject_level_2_desc subject_level_3_desc  \\\n",
       "0       Feedback - FBK                Other                Other   \n",
       "1       Feedback - FBK                Other                Other   \n",
       "2       Feedback - FBK                Other                Other   \n",
       "3              Inquiry   Marketing Services         Availability   \n",
       "4              Inquiry              Product    Product Attribute   \n",
       "\n",
       "  sentiment_desc  comm_type  \\\n",
       "0       Negative   Facebook   \n",
       "1       Negative  Instagram   \n",
       "2        Neutral   Facebook   \n",
       "3       Negative   Facebook   \n",
       "4       Positive   Facebook   \n",
       "\n",
       "                          verbatim_cdownload_content fiscal_period  \\\n",
       "0  Rinse your mouth then spit in your hands. Get ...     5/15/2020   \n",
       "1     @listerine is going to hate you @joerogan ð???      8/8/2019   \n",
       "2  #Listerine \\nMorning breath is definitely the ...      7/3/2019   \n",
       "3  Why was the prebrush rinse discontinued and is...     10/1/2018   \n",
       "4                   Thats the onley one i bi love it     6/14/2020   \n",
       "\n",
       "                                               clean  \n",
       "0  rinse mouth spit hand get double duty one product  \n",
       "1                                         going hate  \n",
       "2          listerine morning breath definitely worst  \n",
       "3      prebrush rinse discontinued something similar  \n",
       "4                            thats onley one bi love  "
      ]
     },
     "execution_count": 4,
     "metadata": {},
     "output_type": "execute_result"
    }
   ],
   "source": [
    "data.head()"
   ]
  },
  {
   "cell_type": "code",
   "execution_count": 5,
   "metadata": {},
   "outputs": [],
   "source": [
    "from nltk.sentiment.vader import SentimentIntensityAnalyzer\n",
    "VaderAnalyzer = SentimentIntensityAnalyzer()"
   ]
  },
  {
   "cell_type": "code",
   "execution_count": 6,
   "metadata": {},
   "outputs": [],
   "source": [
    "data['Polarity'] = [VaderAnalyzer.polarity_scores(x)['compound'] for x in data['verbatim_cdownload_content']]"
   ]
  },
  {
   "cell_type": "code",
   "execution_count": 7,
   "metadata": {},
   "outputs": [],
   "source": [
    "data['Vader_sentiment'] = ['positive' if score > 0 \n",
    "                             else 'negative' if score < 0 \n",
    "                                 else 'neutral' \n",
    "                                     for score in data['Polarity']]"
   ]
  },
  {
   "cell_type": "code",
   "execution_count": 8,
   "metadata": {},
   "outputs": [
    {
     "data": {
      "text/html": [
       "<div>\n",
       "<style scoped>\n",
       "    .dataframe tbody tr th:only-of-type {\n",
       "        vertical-align: middle;\n",
       "    }\n",
       "\n",
       "    .dataframe tbody tr th {\n",
       "        vertical-align: top;\n",
       "    }\n",
       "\n",
       "    .dataframe thead th {\n",
       "        text-align: right;\n",
       "    }\n",
       "</style>\n",
       "<table border=\"1\" class=\"dataframe\">\n",
       "  <thead>\n",
       "    <tr style=\"text-align: right;\">\n",
       "      <th></th>\n",
       "      <th>subject_level_1_desc</th>\n",
       "      <th>subject_level_2_desc</th>\n",
       "      <th>subject_level_3_desc</th>\n",
       "      <th>sentiment_desc</th>\n",
       "      <th>comm_type</th>\n",
       "      <th>verbatim_cdownload_content</th>\n",
       "      <th>fiscal_period</th>\n",
       "      <th>clean</th>\n",
       "      <th>Polarity</th>\n",
       "      <th>Vader_sentiment</th>\n",
       "    </tr>\n",
       "  </thead>\n",
       "  <tbody>\n",
       "    <tr>\n",
       "      <th>0</th>\n",
       "      <td>Feedback - FBK</td>\n",
       "      <td>Other</td>\n",
       "      <td>Other</td>\n",
       "      <td>Negative</td>\n",
       "      <td>Facebook</td>\n",
       "      <td>Rinse your mouth then spit in your hands. Get ...</td>\n",
       "      <td>5/15/2020</td>\n",
       "      <td>rinse mouth spit hand get double duty one product</td>\n",
       "      <td>0.0000</td>\n",
       "      <td>neutral</td>\n",
       "    </tr>\n",
       "    <tr>\n",
       "      <th>1</th>\n",
       "      <td>Feedback - FBK</td>\n",
       "      <td>Other</td>\n",
       "      <td>Other</td>\n",
       "      <td>Negative</td>\n",
       "      <td>Instagram</td>\n",
       "      <td>@listerine is going to hate you @joerogan ð???</td>\n",
       "      <td>8/8/2019</td>\n",
       "      <td>going hate</td>\n",
       "      <td>-0.6416</td>\n",
       "      <td>negative</td>\n",
       "    </tr>\n",
       "    <tr>\n",
       "      <th>2</th>\n",
       "      <td>Feedback - FBK</td>\n",
       "      <td>Other</td>\n",
       "      <td>Other</td>\n",
       "      <td>Neutral</td>\n",
       "      <td>Facebook</td>\n",
       "      <td>#Listerine \\nMorning breath is definitely the ...</td>\n",
       "      <td>7/3/2019</td>\n",
       "      <td>listerine morning breath definitely worst</td>\n",
       "      <td>0.5892</td>\n",
       "      <td>positive</td>\n",
       "    </tr>\n",
       "    <tr>\n",
       "      <th>3</th>\n",
       "      <td>Inquiry</td>\n",
       "      <td>Marketing Services</td>\n",
       "      <td>Availability</td>\n",
       "      <td>Negative</td>\n",
       "      <td>Facebook</td>\n",
       "      <td>Why was the prebrush rinse discontinued and is...</td>\n",
       "      <td>10/1/2018</td>\n",
       "      <td>prebrush rinse discontinued something similar</td>\n",
       "      <td>0.0000</td>\n",
       "      <td>neutral</td>\n",
       "    </tr>\n",
       "    <tr>\n",
       "      <th>4</th>\n",
       "      <td>Inquiry</td>\n",
       "      <td>Product</td>\n",
       "      <td>Product Attribute</td>\n",
       "      <td>Positive</td>\n",
       "      <td>Facebook</td>\n",
       "      <td>Thats the onley one i bi love it</td>\n",
       "      <td>6/14/2020</td>\n",
       "      <td>thats onley one bi love</td>\n",
       "      <td>0.6369</td>\n",
       "      <td>positive</td>\n",
       "    </tr>\n",
       "  </tbody>\n",
       "</table>\n",
       "</div>"
      ],
      "text/plain": [
       "  subject_level_1_desc subject_level_2_desc subject_level_3_desc  \\\n",
       "0       Feedback - FBK                Other                Other   \n",
       "1       Feedback - FBK                Other                Other   \n",
       "2       Feedback - FBK                Other                Other   \n",
       "3              Inquiry   Marketing Services         Availability   \n",
       "4              Inquiry              Product    Product Attribute   \n",
       "\n",
       "  sentiment_desc  comm_type  \\\n",
       "0       Negative   Facebook   \n",
       "1       Negative  Instagram   \n",
       "2        Neutral   Facebook   \n",
       "3       Negative   Facebook   \n",
       "4       Positive   Facebook   \n",
       "\n",
       "                          verbatim_cdownload_content fiscal_period  \\\n",
       "0  Rinse your mouth then spit in your hands. Get ...     5/15/2020   \n",
       "1     @listerine is going to hate you @joerogan ð???      8/8/2019   \n",
       "2  #Listerine \\nMorning breath is definitely the ...      7/3/2019   \n",
       "3  Why was the prebrush rinse discontinued and is...     10/1/2018   \n",
       "4                   Thats the onley one i bi love it     6/14/2020   \n",
       "\n",
       "                                               clean  Polarity Vader_sentiment  \n",
       "0  rinse mouth spit hand get double duty one product    0.0000         neutral  \n",
       "1                                         going hate   -0.6416        negative  \n",
       "2          listerine morning breath definitely worst    0.5892        positive  \n",
       "3      prebrush rinse discontinued something similar    0.0000         neutral  \n",
       "4                            thats onley one bi love    0.6369        positive  "
      ]
     },
     "execution_count": 8,
     "metadata": {},
     "output_type": "execute_result"
    }
   ],
   "source": [
    "data.head()"
   ]
  },
  {
   "cell_type": "code",
   "execution_count": 10,
   "metadata": {},
   "outputs": [
    {
     "data": {
      "text/plain": [
       "([<matplotlib.patches.Wedge at 0x24d8cd11188>,\n",
       "  <matplotlib.patches.Wedge at 0x24d8cd11b48>,\n",
       "  <matplotlib.patches.Wedge at 0x24d8cd1cac8>],\n",
       " [Text(-1.094097998561085, 0.11379617543937107, 'Positive'),\n",
       "  Text(0.7429393871421826, -0.8111973046261917, 'Neutral'),\n",
       "  Text(0.729986987808738, 0.8228724066524078, 'Negative')],\n",
       " [Text(-0.5967807264878645, 0.06207064114874785, '46.7%'),\n",
       "  Text(0.40523966571391773, -0.4424712570688318, '30.2%'),\n",
       "  Text(0.39817472062294795, 0.4488394945376769, '23.1%')])"
      ]
     },
     "execution_count": 10,
     "metadata": {},
     "output_type": "execute_result"
    },
    {
     "data": {
      "image/png": "[encoded data removed]",
      "text/plain": [
       "<Figure size 432x288 with 1 Axes>"
      ]
     },
     "metadata": {},
     "output_type": "display_data"
    }
   ],
   "source": [
    "import seaborn as sns\n",
    "import matplotlib.pyplot as plt\n",
    "import matplotlib.gridspec as gridspec\n",
    "\n",
    "fig,axis = plt.subplots()\n",
    "x = list(data['sentiment_desc'].value_counts().index)\n",
    "y = list(data['sentiment_desc'].value_counts().values)\n",
    "\n",
    "colours = {x[0]: 'green',\n",
    "           x[1]: 'grey',\n",
    "           x[2]: 'red',}\n",
    "#axis.pie(y,labels = x, autopct = '%1.1f%%', startangle = 90)\n",
    "\n",
    "axis.pie(y,\n",
    "          labels=x,\n",
    "          colors=[colours[key] for key in x], autopct = '%1.1f%%', startangle = 90)"
   ]
  },
  {
   "cell_type": "code",
   "execution_count": 11,
   "metadata": {},
   "outputs": [
    {
     "data": {
      "text/plain": [
       "([<matplotlib.patches.Wedge at 0x24d8cd69508>,\n",
       "  <matplotlib.patches.Wedge at 0x24d8cd69c88>,\n",
       "  <matplotlib.patches.Wedge at 0x24d8cda79c8>],\n",
       " [Text(-1.0921566354238512, -0.13112545023622757, 'positive'),\n",
       "  Text(0.9899144388581957, -0.4796555052744247, 'neutral'),\n",
       "  Text(0.5942381517829353, 0.9256786801939436, 'negative')],\n",
       " [Text(-0.5957218011402824, -0.07152297285612412, '53.8%'),\n",
       "  Text(0.5399533302862886, -0.26163027560423163, '28.0%'),\n",
       "  Text(0.3241299009725101, 0.504915643742151, '18.2%')])"
      ]
     },
     "execution_count": 11,
     "metadata": {},
     "output_type": "execute_result"
    },
    {
     "data": {
      "image/png": "[encoded data removed]",
      "text/plain": [
       "<Figure size 432x288 with 1 Axes>"
      ]
     },
     "metadata": {},
     "output_type": "display_data"
    }
   ],
   "source": [
    "fig,axis = plt.subplots()\n",
    "x = list(data['Vader_sentiment'].value_counts().index)\n",
    "y = list(data['Vader_sentiment'].value_counts().values)\n",
    "\n",
    "colours = {x[0]: 'green',\n",
    "           x[1]: 'grey',\n",
    "           x[2]: 'red',}\n",
    "#axis.pie(y,labels = x, autopct = '%1.1f%%', startangle = 90)\n",
    "\n",
    "axis.pie(y,\n",
    "          labels=x,\n",
    "          colors=[colours[key] for key in x], autopct = '%1.1f%%', startangle = 90)"
   ]
  }
 ],
 "metadata": {
  "kernelspec": {
   "display_name": "Python 3",
   "language": "python",
   "name": "python3"
  },
  "language_info": {
   "codemirror_mode": {
    "name": "ipython",
    "version": 3
   },
   "file_extension": ".py",
   "mimetype": "text/x-python",
   "name": "python",
   "nbconvert_exporter": "python",
   "pygments_lexer": "ipython3",
   "version": "3.7.6"
  }
 },
 "nbformat": 4,
 "nbformat_minor": 4
}
